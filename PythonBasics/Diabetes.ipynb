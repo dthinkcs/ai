{
 "cells": [
  {
   "cell_type": "code",
   "execution_count": 5,
   "metadata": {},
   "outputs": [],
   "source": [
    "import numpy as np\n",
    "from sklearn.linear_model import LinearRegression\n",
    "data = np.loadtxt(\"./diabetes_train.csv\", delimiter=\",\")\n",
    "X = data[:, 0 : -1]\n",
    "Y = data[:, -1]"
   ]
  },
  {
   "cell_type": "code",
   "execution_count": 6,
   "metadata": {},
   "outputs": [
    {
     "data": {
      "text/plain": [
       "array([[-0.04910502, -0.04464164,  0.16085492, ...,  0.03430886,\n",
       "         0.02801651,  0.01134862],\n",
       "       [-0.07090025,  0.05068012, -0.08919748, ..., -0.00259226,\n",
       "        -0.01290794, -0.05492509],\n",
       "       [ 0.00175052, -0.04464164, -0.07087468, ..., -0.03949338,\n",
       "        -0.02251217,  0.00720652],\n",
       "       ...,\n",
       "       [ 0.02354575, -0.04464164,  0.0703187 , ..., -0.00259226,\n",
       "        -0.01919705, -0.00936191],\n",
       "       [ 0.01628068,  0.05068012,  0.07247433, ..., -0.00259226,\n",
       "        -0.02364456,  0.06105391],\n",
       "       [-0.00914709,  0.05068012, -0.03099563, ..., -0.00259226,\n",
       "         0.00620932,  0.02791705]])"
      ]
     },
     "execution_count": 6,
     "metadata": {},
     "output_type": "execute_result"
    }
   ],
   "source": [
    "X"
   ]
  },
  {
   "cell_type": "code",
   "execution_count": 7,
   "metadata": {},
   "outputs": [
    {
     "data": {
      "text/plain": [
       "array([346., 104.,  49., 180., 110.,  72.,  68., 216.,  47., 296.,  65.,\n",
       "        96.,  67.,  52., 100., 202., 128.,  63., 281., 152., 124., 245.,\n",
       "       101., 113.,  48., 197., 186., 132., 245.,  91.,  43., 101., 111.,\n",
       "       199., 220., 281., 217.,  93., 174., 150., 206.,  61.,  55., 118.,\n",
       "        53., 275., 215., 142.,  90.,  65., 200.,  96., 249., 200., 155.,\n",
       "       170., 141., 179., 225.,  61., 103., 131., 158., 275., 246.,  97.,\n",
       "       302.,  91., 178.,  51., 170., 104., 168., 257., 182.,  71., 220.,\n",
       "       241., 192., 220., 220., 141.,  89., 144., 150., 135., 200.,  39.,\n",
       "        25., 185.,  52.,  92.,  63., 152.,  69.,  68., 274., 279., 236.,\n",
       "       168., 143., 135., 123., 277.,  60.,  72.,  72., 109.,  86.,  92.,\n",
       "        99.,  48., 170., 283., 129.,  75., 270., 272.,  31., 262., 232.,\n",
       "       191., 140., 233., 196., 263.,  88.,  84., 137., 128.,  78., 140.,\n",
       "       252.,  55., 104., 235.,  37., 122.,  72., 144., 138., 253.,  90.,\n",
       "        53., 198., 145.,  73., 252.,  77., 295., 243.,  83., 212., 185.,\n",
       "       126.,  68., 210., 107., 200.,  69.,  98., 242., 163., 172.,  40.,\n",
       "       109.,  39., 202., 131., 261.,  71., 200.,  60., 198., 198., 107.,\n",
       "       252., 144., 108.,  64.,  83.,  67., 146.,  84.,  96., 270.,  80.,\n",
       "       182., 214., 127., 143., 222.,  50.,  85., 115., 243., 281., 258.,\n",
       "       114.,  57.,  94., 136.,  88., 178.,  94.,  81.,  42., 102., 139.,\n",
       "        74.,  69., 308., 200., 242., 158., 174.,  66.,  78., 127., 132.,\n",
       "       201., 178., 202.,  66., 248., 237., 120., 111.,  99.,  96., 180.,\n",
       "       341., 219., 131., 141.,  89.,  59., 147.,  44., 336.,  47., 272.,\n",
       "       317., 161.,  64.,  78., 111., 208., 190., 244., 246.,  48., 275.,\n",
       "       182., 248.,  59., 178., 113., 109., 142.,  59., 110., 128.,  95.,\n",
       "        65., 115., 276.,  85., 183.,  58.,  71., 162., 225., 306., 137.,\n",
       "        85.,  77.,  72., 166., 310.,  79., 195., 321., 160., 283.,  75.,\n",
       "       167., 191.,  71., 297., 185., 134., 233., 151.,  83., 258.,  54.,\n",
       "        55., 189.,  70., 310., 181., 172., 235., 275., 259.,  88.,  74.,\n",
       "        91., 104., 173., 179., 148., 168., 124., 164., 214., 263.,  52.,\n",
       "        52., 160.,  88.,  94., 109.,  53., 265., 233.,  63., 288., 131.,\n",
       "        42.])"
      ]
     },
     "execution_count": 7,
     "metadata": {},
     "output_type": "execute_result"
    }
   ],
   "source": [
    "Y"
   ]
  },
  {
   "cell_type": "code",
   "execution_count": 8,
   "metadata": {},
   "outputs": [],
   "source": [
    "alg = LinearRegression()"
   ]
  },
  {
   "cell_type": "code",
   "execution_count": 9,
   "metadata": {},
   "outputs": [
    {
     "data": {
      "text/plain": [
       "LinearRegression(copy_X=True, fit_intercept=True, n_jobs=None, normalize=False)"
      ]
     },
     "execution_count": 9,
     "metadata": {},
     "output_type": "execute_result"
    }
   ],
   "source": [
    "alg.fit(X, Y)"
   ]
  },
  {
   "cell_type": "code",
   "execution_count": 10,
   "metadata": {},
   "outputs": [],
   "source": [
    "X_test = np.loadtxt(\"diabetes_test.csv\", delimiter=\",\")\n",
    "Y_pred = alg.predict(X_test)"
   ]
  },
  {
   "cell_type": "code",
   "execution_count": 11,
   "metadata": {},
   "outputs": [],
   "source": [
    "np.savetxt(\"submission.csv\", Y_pred, fmt=\"%1.5f\")"
   ]
  },
  {
   "cell_type": "code",
   "execution_count": null,
   "metadata": {},
   "outputs": [],
   "source": []
  },
  {
   "cell_type": "code",
   "execution_count": null,
   "metadata": {},
   "outputs": [],
   "source": []
  },
  {
   "cell_type": "code",
   "execution_count": null,
   "metadata": {},
   "outputs": [],
   "source": []
  },
  {
   "cell_type": "code",
   "execution_count": null,
   "metadata": {},
   "outputs": [],
   "source": []
  },
  {
   "cell_type": "code",
   "execution_count": null,
   "metadata": {},
   "outputs": [],
   "source": [
    "X"
   ]
  },
  {
   "cell_type": "code",
   "execution_count": null,
   "metadata": {},
   "outputs": [],
   "source": []
  }
 ],
 "metadata": {
  "kernelspec": {
   "display_name": "Python 3",
   "language": "python",
   "name": "python3"
  },
  "language_info": {
   "codemirror_mode": {
    "name": "ipython",
    "version": 3
   },
   "file_extension": ".py",
   "mimetype": "text/x-python",
   "name": "python",
   "nbconvert_exporter": "python",
   "pygments_lexer": "ipython3",
   "version": "3.7.4"
  }
 },
 "nbformat": 4,
 "nbformat_minor": 2
}
